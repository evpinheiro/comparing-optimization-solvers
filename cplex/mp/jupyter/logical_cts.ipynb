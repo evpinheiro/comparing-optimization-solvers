{
 "cells": [
  {
   "cell_type": "markdown",
   "metadata": {
    "deletable": true,
    "editable": true,
    "render": true
   },
   "source": [
    "# Use logical constraints with decision optimization\n",
    "\n",
    "This tutorial includes everything you need to set up decision optimization engines, build a mathematical programming model, leveraging logical constraints.\n",
    "\n",
    "\n",
    "When you finish this tutorial, you'll have a foundational knowledge of _Prescriptive Analytics_.\n",
    "\n",
    ">This notebook is part of the **[Prescriptive Analytics for Python](http://ibmdecisionoptimization.github.io/docplex-doc/)**\n",
    "\n",
    ">It requires an [installation of CPLEX Optimizers](http://ibmdecisionoptimization.github.io/docplex-doc/getting_started.html)\n",
    "\n",
    "Discover us [here](https://developer.ibm.com/docloud)\n",
    "\n",
    "\n",
    "Table of contents:\n",
    "\n",
    "-  [Describe the business problem](#Describe-the-business-problem:--Games-Scheduling-in-the-National-Football-League)\n",
    "*  [How decision optimization (prescriptive analytics) can help](#How--decision-optimization-can-help)\n",
    "*  [Use decision optimization](#Use-decision-optimization)\n",
    "    *  [Step 1: Import the library](#Step-1:-Import-the-library)\n",
    "    *  [Step 2: Learn about constraint truth values](#Step-2:-Learn-about-constraint-truth-values)\n",
    "    *  [Step 3: Learn about equivalence constraints](#Step-3:-Learn-about-equivalence-constraints)\n",
    "*  [Summary](#Summary)\n",
    "****"
   ]
  },
  {
   "cell_type": "markdown",
   "metadata": {},
   "source": [
    "Logical constraints let you use the _truth value_ of constraints inside the model. The truth value of a constraint \n",
    "is true when it is satisfied and false when not. Adding a constraint to a model ensures that it is always satisfied. \n",
    "However, with logical constraints, one can use the truth value of a constraint _inside_ the model, allowing to choose dynamically whether a constraint is to be satisfied (or not)."
   ]
  },
  {
   "cell_type": "markdown",
   "metadata": {
    "deletable": true,
    "editable": true,
    "render": true
   },
   "source": [
    "## How  decision optimization can help\n",
    "\n",
    "* Prescriptive analytics (decision optimization) technology recommends actions that are based on desired outcomes.  It takes into account specific scenarios, resources, and knowledge of past and current events. With this insight, your organization can make better decisions and have greater control of business outcomes.  \n",
    "\n",
    "* Prescriptive analytics is the next step on the path to insight-based actions. It creates value through synergy with predictive analytics, which analyzes data to predict future outcomes.  \n",
    "\n",
    "* Prescriptive analytics takes that insight to the next level by suggesting the optimal way to handle that future situation. Organizations that can act fast in dynamic conditions and make superior decisions in uncertain environments gain a strong competitive advantage.  \n",
    "<br/>\n",
    "\n",
    "<u>With prescriptive analytics, you can:</u> \n",
    "\n",
    "* Automate the complex decisions and trade-offs to better manage your limited resources.\n",
    "* Take advantage of a future opportunity or mitigate a future risk.\n",
    "* Proactively update recommendations based on changing events.\n",
    "* Meet operational goals, increase customer loyalty, prevent threats and fraud, and optimize business processes.\n",
    "\n"
   ]
  },
  {
   "cell_type": "markdown",
   "metadata": {
    "deletable": true,
    "editable": true
   },
   "source": [
    "## Use decision optimization"
   ]
  },
  {
   "cell_type": "markdown",
   "metadata": {
    "deletable": true,
    "editable": true
   },
   "source": [
    "### Step 1: Import the library\n",
    "\n",
    "Run the following code to import Decision Optimization CPLEX Modeling library.  The *DOcplex* library contains the two modeling packages, Mathematical Programming and Constraint Programming, referred to earlier."
   ]
  },
  {
   "cell_type": "code",
   "execution_count": null,
   "metadata": {
    "collapsed": false
   },
   "outputs": [],
   "source": [
    "import sys\n",
    "try:\n",
    "    import docplex.mp\n",
    "except:\n",
    "    raise Exception('Please install docplex. See https://pypi.org/project/docplex/')"
   ]
  },
  {
   "cell_type": "markdown",
   "metadata": {},
   "source": [
    "A restart of the kernel might be needed."
   ]
  },
  {
   "cell_type": "markdown",
   "metadata": {
    "deletable": true,
    "editable": true,
    "render": true
   },
   "source": [
    "### Step 2: Learn about constraint truth values\n",
    "\n",
    "Any discrete linear constraint can be associated to a binary variable that holds the truth value of the constraint. \n",
    "But first, let's explain what a discrete constraint is"
   ]
  },
  {
   "cell_type": "markdown",
   "metadata": {},
   "source": [
    "#### Discrete linear constraint\n",
    "\n",
    "A discrete linear constraint is built from discrete coefficients and discrete variables, taht is variables with type `integer` or `binary`. For example, assuming x and y are integer variables:\n",
    "\n",
    " - `2x+3y == 1` is discrete\n",
    " - `x+y = 3.14` is not (because of 3.14)\n",
    " - `1.1 x + 2.2 y <= 3` is not because of the non-integer coefficients 1.1 and 2.2"
   ]
  },
  {
   "cell_type": "markdown",
   "metadata": {},
   "source": [
    "#### The truth value of an added constraint is always 1\n",
    "\n",
    "The truth value of a constraint is accessed by the `status_var` property. This varianle is aplain Docplex decision variable that can be used anywhere a variable can. However, the value of the truth value variable and the constraint are linked, both ways:\n",
    "\n",
    " - a constraint is satisfied if and only if its truth value variable equals 1\n",
    " - a constraint is _not_ satisfied if and only if its truth value variable equals 0.\n",
    "\n",
    "In this toy model,we show that the truth value of a constraint which has been added to a model is always equal to 1."
   ]
  },
  {
   "cell_type": "code",
   "execution_count": null,
   "metadata": {
    "collapsed": false
   },
   "outputs": [],
   "source": [
    "from docplex.mp.model import Model\n",
    "\n",
    "m1 = Model()\n",
    "x = m1.integer_var(name='ix')\n",
    "y = m1.integer_var(name='iy')\n",
    "ct = m1.add(x + y <= 3)\n",
    "ct_truth = ct.status_var\n",
    "m1.maximize(x+y)\n",
    "assert m1.solve()\n",
    "print('the truth value of [{0!s}] is {1}'.format(ct, ct_truth.solution_value))"
   ]
  },
  {
   "cell_type": "markdown",
   "metadata": {},
   "source": [
    "#### The truth value of a constraint not added to a model is undefined\n",
    "\n",
    "A constraint that is not added to a model, has no effect. Its truth value is undefined: it can be either 1 or 0.\n",
    "\n",
    "In the following example, both `x` and `y` are set to their upper bound, so that the constraint is not satisfied; hence the truth value is 0."
   ]
  },
  {
   "cell_type": "code",
   "execution_count": null,
   "metadata": {
    "collapsed": false
   },
   "outputs": [],
   "source": [
    "m2 = Model()\n",
    "x = m2.integer_var(name='ix', ub=4)\n",
    "y = m2.integer_var(name='iy', ub=4)\n",
    "ct = (x + y <= 3)\n",
    "ct_truth = ct.status_var  # not m2.add() here!\n",
    "m2.maximize(x+y)\n",
    "assert m2.solve()\n",
    "m2.print_solution()\n",
    "print('the truth value of [{0!s}] is {1}'.format(ct, ct_truth.solution_value))"
   ]
  },
  {
   "cell_type": "markdown",
   "metadata": {},
   "source": [
    "#### Using constraint truth values in modeling\n",
    "\n",
    "A constraint's truth value is actually a plain DOcplex decision variable, and as such, can be used with comparison operators and arithmetic operators.\n",
    "Let's experiment again with a toy model: in this model,\n",
    "we state that the truth value of `y == 4` is less than the truth value of `x ==3`.\n",
    "As we maximize y, y has value 4 in the optimal solution (it is the upper bound), and consequently the constraint `ct_y4` is satisfied. From the inequality between truth values,\n",
    "it follows that the truth value of `ct_x2` equals 1 and x is equal to 2.\n",
    "\n",
    "Using the constraints in the inequality has silently converted each constraint into its truth value."
   ]
  },
  {
   "cell_type": "code",
   "execution_count": null,
   "metadata": {
    "collapsed": false
   },
   "outputs": [],
   "source": [
    "m3 = Model()\n",
    "x = m3.integer_var(name='ix', ub=4)\n",
    "y = m3.integer_var(name='iy', ub=4)\n",
    "ct_x2 = (x == 2)\n",
    "ct_y4 = (y == 4)\n",
    "m3.add( ct_y4 <= ct_x2 )\n",
    "m3.maximize(y)\n",
    "assert m3.solve()\n",
    "m3.print_solution()"
   ]
  },
  {
   "cell_type": "markdown",
   "metadata": {},
   "source": [
    "Constraint truth values can be used with arithmetic operators, just as variables can. In th enext model, we express a more complex constraint:\n",
    "- either x is equal to 3, _or_ both y and z are equal to 5\n",
    "\n",
    "Let's see how we can express this easilty with truth values:"
   ]
  },
  {
   "cell_type": "code",
   "execution_count": null,
   "metadata": {
    "collapsed": false
   },
   "outputs": [],
   "source": [
    "m31 = Model(name='m31')\n",
    "x = m31.integer_var(name='ix', ub=4)\n",
    "y = m31.integer_var(name='iy', ub=10)\n",
    "z = m31.integer_var(name='iz', ub=10)\n",
    "ct_x2 = (x == 3)\n",
    "ct_y5 = (y == 5)\n",
    "ct_z5 = (z == 5)\n",
    "#either ct-x2 is true or -both- ct_y5 and ct_z5 mus be true\n",
    "m31.add( 2 * ct_x2 + (ct_y5 + ct_z5) == 2)\n",
    "# force x to be less than 2: it cannot be equal to 3!\n",
    "m31.add(x <= 2)\n",
    "# maximize sum of x,y,z\n",
    "m31.maximize(x+y+z)\n",
    "assert m31.solve()\n",
    "# the expected solution is: x=2, y=5, z=5\n",
    "assert m31.objective_value == 12\n",
    "m31.print_solution()"
   ]
  },
  {
   "cell_type": "markdown",
   "metadata": {},
   "source": [
    "As we have seen, constraints can be used in expressions. This includes the `Model.sum()` and `Model.dot()` aggregation methods.\n",
    "\n",
    "In the next model, we define ten variables, one of which must be equal to 3 (we dpn't care which one, for now). As we maximize the sum of all `xs` variables, all will end up equal to their upper bound, except for one."
   ]
  },
  {
   "cell_type": "code",
   "execution_count": null,
   "metadata": {
    "collapsed": false
   },
   "outputs": [],
   "source": [
    "m4 = Model()\n",
    "xs = m4.integer_var_list(10, ub=100)\n",
    "cts = [xi==3 for xi in xs]\n",
    "m4.add( m4.sum(cts) == 1)\n",
    "m4.maximize(m4.sum(xs))\n",
    "assert m4.solve()\n",
    "m4.print_solution()"
   ]
  },
  {
   "cell_type": "markdown",
   "metadata": {},
   "source": [
    "As we can see, all variables but one are set to their upper bound of 100. We cannot predict which variable will be set to 3. \n",
    "However, let's imagine that we prefer variable with a lower index to be set to 3, how can we express this preference? \n",
    "\n",
    "The answer is to use an additional expression to the objective, using a scalar product of constraint truth value"
   ]
  },
  {
   "cell_type": "code",
   "execution_count": null,
   "metadata": {
    "collapsed": false
   },
   "outputs": [],
   "source": [
    "preference = m4.dot(cts, (k+1 for k in range(len(xs))))\n",
    "# we prefer lower indices for satisfying the x==3 constraint\n",
    "# so the final objective is a maximize of sum of xs -minus- the preference\n",
    "m4.maximize(m4.sum(xs) - preference)\n",
    "assert m4.solve()\n",
    "m4.print_solution()"
   ]
  },
  {
   "cell_type": "markdown",
   "metadata": {},
   "source": [
    "As expected, the `x` variable set to 3 now is the first one."
   ]
  },
  {
   "cell_type": "markdown",
   "metadata": {},
   "source": [
    "#### Using truth values to state 'not equals' constraints.\n",
    "\n",
    "Truth values can be used to express elegantly 'not equal' constraints, by forcing the truth value of an equality constraint to 0.\n",
    "\n",
    "In the next model, we illustrate how an equality constraint can be negated by forcing its truth value to zero. This negation forbids y to be equal to 4, as it would be without this negation.\n",
    "Finally, the objective is 7 instead of 8."
   ]
  },
  {
   "cell_type": "code",
   "execution_count": null,
   "metadata": {
    "collapsed": false
   },
   "outputs": [],
   "source": [
    "m5 = Model()\n",
    "x = m5.integer_var(name='ix', ub=4)\n",
    "y = m5.integer_var(name='iy', ub=4)\n",
    "# this is the equality constraint we want to negate\n",
    "ct_y4 = (y == 4)\n",
    "# forcing truth value to zero means the constraint is not satisfied.\n",
    "negation = m5.add( ct_y4 == 0)\n",
    "# maximize x+y should yield both variables to 4, but y cannot be equal to 4\n",
    "# as such we expect y to be equal to 3\n",
    "m5.maximize(x + y)\n",
    "assert m5.solve()\n",
    "m5.print_solution()\n",
    "# expecting 7 as objective, not 8\n",
    "assert m5.objective_value == 7\n",
    "\n",
    "# now remove the negation\n",
    "m5.remove_constraint(negation)\n",
    "# and solve again\n",
    "assert m5.solve()\n",
    "# the objective is 8 as expected: both x and y are equal to 4\n",
    "assert m5.objective_value == 8"
   ]
  },
  {
   "cell_type": "markdown",
   "metadata": {},
   "source": [
    "#### Summary\n",
    "\n",
    "We have seen that linear constraints have an associated binary variable, its _truth value_, whose value is linked to whether or not the constraint is satisfied. \n",
    "Moreover, this llink enables to express 'not equals' constraints.# now remove netation"
   ]
  },
  {
   "cell_type": "markdown",
   "metadata": {},
   "source": [
    "### Step 3: Learn about equivalence constraints\n",
    "\n",
    "As we have seen, using a constraint in expressions automtically generates a truth value variable, whose value is linked to the status of the constraint. \n",
    "\n",
    "However, in some cases, it can be useful to relate the status of a constraint to an _existing_ binary variable. This is the purpose of equivalence constraints.\n",
    "\n",
    "An equiavelnec constraints relates an existing binary variable to the status of a discrete linear constraints. The syntax is:\n",
    "\n",
    "    `Model.add_equivalence(bvar, linear_ct, active_value, name)`\n",
    "    \n",
    " - `bvar` is the existing binary variable\n",
    " - `linear-ct` is a discrete linear constraint\n",
    " - `active_value` can take values 1 or 0 (the default is 1)\n",
    " - `name` is an optional string to name the equivalence."
   ]
  },
  {
   "cell_type": "code",
   "execution_count": null,
   "metadata": {
    "collapsed": false
   },
   "outputs": [],
   "source": [
    "m6 = Model(name='m6')\n",
    "size = 7\n",
    "il = m6.integer_var_list(size, name='i', ub=10)\n",
    "jl = m6.integer_var_list(size, name='j', ub=10)\n",
    "bl = m6.binary_var_list(size, name='b')\n",
    "for k in range(size):\n",
    "    # for each i, relate bl_k to il_k==5 *and* jl_k == 7\n",
    "    m6.add_equivalence(bl[k], il[k] == 5)\n",
    "    m6.add_equivalence(bl[k], jl[k] == 7)\n",
    "# now maximize sum of bs\n",
    "m6.maximize(m6.sum(bl))\n",
    "assert m6.solve()\n",
    "m6.print_solution()\n",
    "\n"
   ]
  },
  {
   "cell_type": "markdown",
   "metadata": {
    "deletable": true,
    "editable": true
   },
   "source": [
    "## Summary\n",
    "\n",
    "\n",
    "You learned how to set up and use the IBM Decision Optimization CPLEX Modeling for Python to formulate a Mathematical Programming model with logical constraints."
   ]
  },
  {
   "cell_type": "markdown",
   "metadata": {
    "deletable": true,
    "editable": true,
    "render": true
   },
   "source": [
    "#### References\n",
    "* [Decision Optimization CPLEX Modeling for Python documentation](http://ibmdecisionoptimization.github.io/docplex-doc/)\n",
    "* [Decision Optimization on Cloud](https://developer.ibm.com/docloud/)\n",
    "* Need help with DOcplex or to report a bug? Please go [here](https://developer.ibm.com/answers/smartspace/docloud)\n",
    "* Contact us at dofeedback@wwpdl.vnet.ibm.com\"\n"
   ]
  },
  {
   "cell_type": "markdown",
   "metadata": {
    "deletable": true,
    "editable": true
   },
   "source": [
    "Copyright © 2017-2018 IBM. Sample Materials."
   ]
  }
 ],
 "metadata": {
  "anaconda-cloud": {},
  "gist_id": "6011986",
  "kernelspec": {
   "display_name": "Python 2",
   "language": "python",
   "name": "python2"
  },
  "language_info": {
   "codemirror_mode": {
    "name": "ipython",
    "version": 2
   },
   "file_extension": ".py",
   "mimetype": "text/x-python",
   "name": "python",
   "nbconvert_exporter": "python",
   "pygments_lexer": "ipython2",
   "version": "2.7.13"
  }
 },
 "nbformat": 4,
 "nbformat_minor": 0
}
