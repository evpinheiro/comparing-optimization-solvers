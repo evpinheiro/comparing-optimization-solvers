{
 "cells": [
  {
   "cell_type": "markdown",
   "metadata": {
    "render": true
   },
   "source": [
    "# Use decision optimization to determine Cloud balancing.\n",
    "\n",
    "This tutorial includes everything you need to set up decision optimization engines, build mathematical programming models, and a solve a capacitated facility location problem to do server load balancing.\n",
    "\n",
    "\n",
    "When you finish this tutorial, you'll have a foundational knowledge of _Prescriptive Analytics_.\n",
    "\n",
    ">This notebook is part of the [Prescriptive Analytics for Python](http://ibmdecisionoptimization.github.io/docplex-doc/)\n",
    "\n",
    ">It requires an [installation of CPLEX Optimizers](http://ibmdecisionoptimization.github.io/docplex-doc/getting_started.html)\n",
    "\n",
    "Discover us [here](https://developer.ibm.com/docloud)\n",
    "\n",
    "\n",
    "Table of contents:\n",
    "\n",
    "-  [The business problem](#The-business-problem:--Games-Scheduling-in-the-National-Football-League)\n",
    "*  [How decision optimization (prescriptive analytics) can help](#How--decision-optimization-can-help)\n",
    "*  [Use decision optimization](#Use-decision-optimization)\n",
    "    *  [Step 1: Import the library](#Step-1:-Import-the-library)\n",
    "    -  [Step 2: Model the Data](#Step-2:-Model-the-data)\n",
    "    *  [Step 3: Prepare the data](#Step-3:-Prepare-the-data)\n",
    "    -  [Step 4: Set up the prescriptive model](#Step-4:-Set-up-the-prescriptive-model)\n",
    "        * [Define the decision variables](#Define-the-decision-variables)\n",
    "        * [Express the business constraints](#Express-the-business-constraints)\n",
    "        * [Express the objective](#Express-the-objective)\n",
    "        * [Solve with Decision Optimization](#Solve-with-Decision-Optimization)\n",
    "    *  [Step 5: Investigate the solution and run an example analysis](#Step-5:-Investigate-the-solution-and-then-run-an-example-analysis)\n",
    "*  [Summary](#Summary)\n"
   ]
  },
  {
   "cell_type": "markdown",
   "metadata": {
    "render": true
   },
   "source": [
    "## The business problem:  Capacitated Facility Location.   \n",
    "\n",
    "\n",
    "* The description of the problem can be found here: http://blog.yhat.com/posts/how-yhat-does-cloud-balancing.html"
   ]
  },
  {
   "cell_type": "markdown",
   "metadata": {
    "render": true
   },
   "source": [
    "## How  decision optimization can help\n",
    "\n",
    "* Prescriptive analytics (decision optimization) technology recommends actions that are based on desired outcomes.  It takes into account specific scenarios, resources, and knowledge of past and current events. With this insight, your organization can make better decisions and have greater control of business outcomes.  \n",
    "\n",
    "* Prescriptive analytics is the next step on the path to insight-based actions. It creates value through synergy with predictive analytics, which analyzes data to predict future outcomes.  \n",
    "\n",
    "* Prescriptive analytics takes that insight to the next level by suggesting the optimal way to handle that future situation. Organizations that can act fast in dynamic conditions and make superior decisions in uncertain environments gain a strong competitive advantage.  \n",
    "<br/>\n",
    "\n",
    "<u>With prescriptive analytics, you can:</u> \n",
    "\n",
    "* Automate the complex decisions and trade-offs to better manage your limited resources.\n",
    "* Take advantage of a future opportunity or mitigate a future risk.\n",
    "* Proactively update recommendations based on changing events.\n",
    "* Meet operational goals, increase customer loyalty, prevent threats and fraud, and optimize business processes.\n",
    "\n"
   ]
  },
  {
   "cell_type": "markdown",
   "metadata": {},
   "source": [
    "## Use decision optimization"
   ]
  },
  {
   "cell_type": "markdown",
   "metadata": {},
   "source": [
    "### Step 1: Import the library\n",
    "\n",
    "Run the following code to import the Decision Optimization CPLEX Modeling library.  The *DOcplex* library contains the two modeling packages, Mathematical Programming (docplex.mp) and Constraint Programming (docplex.cp)."
   ]
  },
  {
   "cell_type": "code",
   "execution_count": null,
   "metadata": {
    "collapsed": false
   },
   "outputs": [],
   "source": [
    "import sys\n",
    "try:\n",
    "    import docplex.mp\n",
    "except:\n",
    "    raise Exception('Please install docplex. See https://pypi.org/project/docplex/')"
   ]
  },
  {
   "cell_type": "markdown",
   "metadata": {
    "render": true
   },
   "source": [
    "### Step 2: Model the data\n",
    "In this scenario, the data is simple and is delivered in the json format under the Optimization github."
   ]
  },
  {
   "cell_type": "code",
   "execution_count": null,
   "metadata": {
    "collapsed": true
   },
   "outputs": [],
   "source": [
    "from collections import namedtuple"
   ]
  },
  {
   "cell_type": "code",
   "execution_count": null,
   "metadata": {
    "collapsed": false
   },
   "outputs": [],
   "source": [
    "class TUser(namedtuple(\"TUser\", [\"id\", \"running\", \"sleeping\", \"current_server\"])):\n",
    "    def __str__(self):\n",
    "        return self.id"
   ]
  },
  {
   "cell_type": "code",
   "execution_count": null,
   "metadata": {
    "collapsed": true
   },
   "outputs": [],
   "source": [
    "try:\n",
    "    from StringIO import StringIO\n",
    "except ImportError:\n",
    "    from io import StringIO"
   ]
  },
  {
   "cell_type": "code",
   "execution_count": null,
   "metadata": {
    "collapsed": false
   },
   "outputs": [],
   "source": [
    "try:\n",
    "    from urllib2 import urlopen\n",
    "except ImportError:\n",
    "    from urllib.request import urlopen"
   ]
  },
  {
   "cell_type": "code",
   "execution_count": null,
   "metadata": {
    "collapsed": false
   },
   "outputs": [],
   "source": [
    "import csv\n",
    "\n",
    "data_url = \"https://github.com/vberaudi/utwt/blob/master/users.csv?raw=true\"\n",
    "xld = urlopen(data_url).read()\n",
    "xlds = StringIO(xld.decode('utf-8'))\n",
    "reader = csv.reader(xlds)\n",
    "\n",
    "users = [(row[0], int(row[1]), int(row[2]), row[3]) for row in reader]"
   ]
  },
  {
   "cell_type": "markdown",
   "metadata": {
    "render": true
   },
   "source": [
    "### Step 3: Prepare the data\n",
    "\n",
    "Given the number of teams in each division and the number of intradivisional and interdivisional games to be played, you can calculate the total number of teams and the number of weeks in the schedule, assuming every team plays exactly one game per week. \n",
    "\n",
    "\n",
    "The season is split into halves, and the number of the intradivisional games that each team must play in the first half of the season is calculated."
   ]
  },
  {
   "cell_type": "code",
   "execution_count": null,
   "metadata": {
    "collapsed": false
   },
   "outputs": [],
   "source": [
    "max_processes_per_server = 50\n",
    "\n",
    "users = [TUser(*user_row) for user_row in users]\n",
    "\n",
    "\n",
    "servers = list({t.current_server for t in users})"
   ]
  },
  {
   "cell_type": "markdown",
   "metadata": {
    "render": true
   },
   "source": [
    "### Step 4: Set up the prescriptive model"
   ]
  },
  {
   "cell_type": "code",
   "execution_count": null,
   "metadata": {
    "collapsed": false
   },
   "outputs": [],
   "source": [
    "from docplex.mp.environment import Environment\n",
    "env = Environment()\n",
    "env.print_information()"
   ]
  },
  {
   "cell_type": "markdown",
   "metadata": {},
   "source": [
    "#### Create the DOcplex model\n",
    "The model contains all the business constraints and defines the objective."
   ]
  },
  {
   "cell_type": "code",
   "execution_count": null,
   "metadata": {
    "collapsed": true
   },
   "outputs": [],
   "source": [
    "from docplex.mp.model import Model\n",
    "\n",
    "mdl = Model(\"truck\")"
   ]
  },
  {
   "cell_type": "markdown",
   "metadata": {},
   "source": [
    "#### Define the decision variables"
   ]
  },
  {
   "cell_type": "code",
   "execution_count": null,
   "metadata": {
    "collapsed": false
   },
   "outputs": [],
   "source": [
    "active_var_by_server = mdl.binary_var_dict(servers, name='isActive')\n",
    "\n",
    "def user_server_pair_namer(u_s):\n",
    "    u, s = u_s\n",
    "    return '%s_to_%s' % (u.id, s)\n",
    "\n",
    "assign_user_to_server_vars = mdl.binary_var_matrix(users, servers, user_server_pair_namer)\n",
    "\n",
    "max_sleeping_workload = mdl.integer_var(name=\"max_sleeping_processes\")"
   ]
  },
  {
   "cell_type": "code",
   "execution_count": null,
   "metadata": {
    "collapsed": true
   },
   "outputs": [],
   "source": [
    "def _is_migration(user, server):\n",
    "    \"\"\" Returns True if server is not the user's current\n",
    "        Used in setup of constraints.\n",
    "    \"\"\"\n",
    "    return server != user.current_server"
   ]
  },
  {
   "cell_type": "markdown",
   "metadata": {
    "render": true
   },
   "source": [
    "#### Express the business constraints"
   ]
  },
  {
   "cell_type": "code",
   "execution_count": null,
   "metadata": {
    "collapsed": false
   },
   "outputs": [],
   "source": [
    "mdl.add_constraints(\n",
    "    mdl.sum(assign_user_to_server_vars[u, s] * u.running for u in users) <= max_processes_per_server\n",
    "    for s in servers)\n",
    "mdl.print_information()"
   ]
  },
  {
   "cell_type": "code",
   "execution_count": null,
   "metadata": {
    "collapsed": true
   },
   "outputs": [],
   "source": [
    "# each assignment var <u, s>  is <= active_server(s)\n",
    "for s in servers:\n",
    "    for u in users:\n",
    "        ct_name = 'ct_assign_to_active_{0!s}_{1!s}'.format(u, s)\n",
    "        mdl.add_constraint(assign_user_to_server_vars[u, s] <= active_var_by_server[s], ct_name)"
   ]
  },
  {
   "cell_type": "code",
   "execution_count": null,
   "metadata": {
    "collapsed": false
   },
   "outputs": [],
   "source": [
    "# sum of assignment vars for (u, all s in servers) == 1\n",
    "for u in users:\n",
    "    ct_name = 'ct_unique_server_%s' % (u[0])\n",
    "    mdl.add_constraint(mdl.sum((assign_user_to_server_vars[u, s] for s in servers)) == 1.0, ct_name)\n",
    "mdl.print_information()"
   ]
  },
  {
   "cell_type": "code",
   "execution_count": null,
   "metadata": {
    "collapsed": false
   },
   "outputs": [],
   "source": [
    "number_of_active_servers = mdl.sum((active_var_by_server[svr] for svr in servers))\n",
    "mdl.add_kpi(number_of_active_servers, \"Number of active servers\")\n",
    "\n",
    "number_of_migrations = mdl.sum(\n",
    "    assign_user_to_server_vars[u, s] for u in users for s in servers if _is_migration(u, s))\n",
    "mdl.add_kpi(number_of_migrations, \"Total number of migrations\")\n",
    "\n",
    "\n",
    "for s in servers:\n",
    "    ct_name = 'ct_define_max_sleeping_%s' % s\n",
    "    mdl.add_constraint(\n",
    "        mdl.sum(\n",
    "            assign_user_to_server_vars[u, s] * u.sleeping for u in users) <= max_sleeping_workload,\n",
    "        ct_name)\n",
    "mdl.add_kpi(max_sleeping_workload, \"Max sleeping workload\")\n",
    "mdl.print_information()"
   ]
  },
  {
   "cell_type": "markdown",
   "metadata": {
    "render": true
   },
   "source": [
    "#### Express the objective"
   ]
  },
  {
   "cell_type": "code",
   "execution_count": null,
   "metadata": {
    "collapsed": false
   },
   "outputs": [],
   "source": [
    "# Set objective function\n",
    "mdl.minimize(number_of_active_servers)\n",
    "\n",
    "mdl.print_information()"
   ]
  },
  {
   "cell_type": "markdown",
   "metadata": {
    "render": true
   },
   "source": [
    "### Solve with Decision Optimization \n",
    "\n",
    "You will get the best solution found after n seconds, due to a time limit parameter.\n"
   ]
  },
  {
   "cell_type": "code",
   "execution_count": null,
   "metadata": {
    "collapsed": false
   },
   "outputs": [],
   "source": [
    "# build an ordered sequence of goals\n",
    "ordered_kpi_keywords = [\"servers\", \"migrations\", \"sleeping\"]\n",
    "ordered_goals = [mdl.kpi_by_name(k) for k in ordered_kpi_keywords]\n",
    "\n",
    "mdl.solve_lexicographic(ordered_goals)\n",
    "mdl.report()"
   ]
  },
  {
   "cell_type": "markdown",
   "metadata": {
    "render": true
   },
   "source": [
    "### Step 5: Investigate the solution and then run an example analysis"
   ]
  },
  {
   "cell_type": "code",
   "execution_count": null,
   "metadata": {
    "collapsed": false
   },
   "outputs": [],
   "source": [
    "active_servers = sorted([s for s in servers if active_var_by_server[s].solution_value == 1])\n",
    "\n",
    "\n",
    "print(\"Active Servers: {}\".format(active_servers))\n",
    "\n",
    "print(\"*** User assignment ***\")\n",
    "\n",
    "for (u, s) in sorted(assign_user_to_server_vars):\n",
    "    if assign_user_to_server_vars[(u, s)].solution_value == 1:\n",
    "        print(\"{} uses {}, migration: {}\".format(u, s, \"yes\" if _is_migration(u, s) else \"no\"))\n",
    "print(\"*** Servers sleeping processes ***\")\n",
    "for s in active_servers:\n",
    "    sleeping = sum(assign_user_to_server_vars[u, s].solution_value * u.sleeping for u in users)\n",
    "    print(\"Server: {} #sleeping={}\".format(s, sleeping))"
   ]
  },
  {
   "cell_type": "markdown",
   "metadata": {},
   "source": [
    "## Summary\n",
    "\n",
    "\n",
    "You learned how to set up and use IBM Decision Optimization CPLEX Modeling for Python to formulate a Constraint Programming model and solve it with IBM Decision Optimization on Cloud."
   ]
  },
  {
   "cell_type": "markdown",
   "metadata": {
    "render": true
   },
   "source": [
    "#### References\n",
    "* [Decision Optimization CPLEX Modeling for Python documentation](http://ibmdecisionoptimization.github.io/docplex-doc/)\n",
    "* [Decision Optimization on Cloud](https://developer.ibm.com/docloud/)\n",
    "* Need help with DOcplex or to report a bug? Please go [here](https://developer.ibm.com/answers/smartspace/docloud).\n",
    "* Contact us at dofeedback@wwpdl.vnet.ibm.com.\n"
   ]
  },
  {
   "cell_type": "markdown",
   "metadata": {},
   "source": [
    "Copyright © 2017-2018 IBM. IPLA licensed Sample Materials."
   ]
  }
 ],
 "metadata": {
  "gist_id": "6011986",
  "kernelspec": {
   "display_name": "Python 2",
   "language": "python",
   "name": "python2"
  },
  "language_info": {
   "codemirror_mode": {
    "name": "ipython",
    "version": 2
   },
   "file_extension": ".py",
   "mimetype": "text/x-python",
   "name": "python",
   "nbconvert_exporter": "python",
   "pygments_lexer": "ipython2",
   "version": "2.7.13"
  }
 },
 "nbformat": 4,
 "nbformat_minor": 0
}
