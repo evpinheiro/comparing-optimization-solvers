{
 "cells": [
  {
   "cell_type": "code",
   "execution_count": 83,
   "metadata": {},
   "outputs": [],
   "source": [
    "import pandas as pd"
   ]
  },
  {
   "cell_type": "code",
   "execution_count": 275,
   "metadata": {},
   "outputs": [],
   "source": [
    "def lagrange_function(x, u, c, A, b):\n",
    "    return objective_function(c, x) + inner_product(u, subgradient(x, A, b))\n",
    "def subgradient(x, A, b):\n",
    "    return [b[i] - inner_product(A[i], x) for i in range(len(b))]\n",
    "def objective_function(c, x):\n",
    "    return inner_product(c, x)\n",
    "def inner_product(vector1, vector2):\n",
    "    product = 0\n",
    "    for i, vi in enumerate(vector1):\n",
    "        product = product + vi*vector2[i]\n",
    "    return product\n",
    "def is_vector_zero(vector1):\n",
    "    for i, vi in enumerate(vector1):\n",
    "         if vi != 0:\n",
    "                return False\n",
    "    return True"
   ]
  },
  {
   "cell_type": "code",
   "execution_count": 277,
   "metadata": {},
   "outputs": [],
   "source": [
    "def LR(u, c, A, b):\n",
    "    best_x = [0 for j in range(len(c))]\n",
    "    for j, cj in enumerate(c):\n",
    "        aux = 0\n",
    "        for i in range(len(u)):\n",
    "            aux = aux + u[i]*A[i][j]\n",
    "        if cj - aux > 0:\n",
    "            best_x[j] = 1\n",
    "        #elif c()[i]-u*A()[i] == 0 and\n",
    "    max_value = lagrange_function(best_x, u, c, A, b)\n",
    "    return max_value, best_x\n",
    "\n",
    "def subgradient_method(c, A, b, uk, mik = 0.1, pho=0.95, max_iterations=100):\n",
    "    df = pd.DataFrame(columns=['uk', 'dk', 'xuk', 'zuk', 'c*xuk'])\n",
    "    k = 0\n",
    "    subgradient_not_zero = True\n",
    "    while k < max_iterations and (k < max_iterations or subgradient_not_zero):\n",
    "        (zuk, xuk) = LR(uk, c, A, b)        \n",
    "        dk = subgradient(xuk, A, b)       \n",
    "        uk = [max(0, uk[i] - mik*dk[i]) for i in range(len(dk))]\n",
    "        mik = pho*mik\n",
    "        subgradient_not_zero = !is_vector_zero(dk)\n",
    "        k = k + 1\n",
    "        df.loc[k] = [[round(uk[i],4) for i in range(len(uk))] , dk, xuk, round(zuk,4), objective_function(c, xuk)]                \n",
    "    return df"
   ]
  },
  {
   "cell_type": "code",
   "execution_count": 51,
   "metadata": {},
   "outputs": [
    {
     "data": {
      "text/plain": [
       "<matplotlib.axes._subplots.AxesSubplot at 0x7f987c625f10>"
      ]
     },
     "execution_count": 51,
     "metadata": {},
     "output_type": "execute_result"
    },
    {
     "data": {
      "image/png": "[encoded data removed]",
      "text/plain": [
       "<Figure size 432x288 with 1 Axes>"
      ]
     },
     "metadata": {
      "needs_background": "light"
     },
     "output_type": "display_data"
    }
   ],
   "source": [
    "A_p1 = [[2, 1, 6, 5]]\n",
    "c_p1 = [10, 7, 25, 24]\n",
    "b_p1 = [7]\n",
    "df_subgrad_p1 = subgradient_method(c_p1, A_p1, b_p1, uk=[0], max_iterations=60)\n",
    "df_subgrad_p1.plot(y='zuk')"
   ]
  },
  {
   "cell_type": "code",
   "execution_count": 273,
   "metadata": {},
   "outputs": [
    {
     "data": {
      "text/html": [
       "<div>\n",
       "<style scoped>\n",
       "    .dataframe tbody tr th:only-of-type {\n",
       "        vertical-align: middle;\n",
       "    }\n",
       "\n",
       "    .dataframe tbody tr th {\n",
       "        vertical-align: top;\n",
       "    }\n",
       "\n",
       "    .dataframe thead th {\n",
       "        text-align: right;\n",
       "    }\n",
       "</style>\n",
       "<table border=\"1\" class=\"dataframe\">\n",
       "  <thead>\n",
       "    <tr style=\"text-align: right;\">\n",
       "      <th></th>\n",
       "      <th>uk</th>\n",
       "      <th>dk</th>\n",
       "      <th>xuk</th>\n",
       "      <th>zuk</th>\n",
       "      <th>c*xuk</th>\n",
       "    </tr>\n",
       "  </thead>\n",
       "  <tbody>\n",
       "    <tr>\n",
       "      <td>56</td>\n",
       "      <td>[4.8036]</td>\n",
       "      <td>[-1]</td>\n",
       "      <td>[1, 1, 0, 1]</td>\n",
       "      <td>36.2023</td>\n",
       "      <td>41</td>\n",
       "    </tr>\n",
       "    <tr>\n",
       "      <td>57</td>\n",
       "      <td>[4.781]</td>\n",
       "      <td>[4]</td>\n",
       "      <td>[1, 1, 0, 0]</td>\n",
       "      <td>36.2146</td>\n",
       "      <td>17</td>\n",
       "    </tr>\n",
       "    <tr>\n",
       "      <td>58</td>\n",
       "      <td>[4.7864]</td>\n",
       "      <td>[-1]</td>\n",
       "      <td>[1, 1, 0, 1]</td>\n",
       "      <td>36.219</td>\n",
       "      <td>41</td>\n",
       "    </tr>\n",
       "    <tr>\n",
       "      <td>59</td>\n",
       "      <td>[4.7915]</td>\n",
       "      <td>[-1]</td>\n",
       "      <td>[1, 1, 0, 1]</td>\n",
       "      <td>36.2136</td>\n",
       "      <td>41</td>\n",
       "    </tr>\n",
       "    <tr>\n",
       "      <td>60</td>\n",
       "      <td>[4.7963]</td>\n",
       "      <td>[-1]</td>\n",
       "      <td>[1, 1, 0, 1]</td>\n",
       "      <td>36.2085</td>\n",
       "      <td>41</td>\n",
       "    </tr>\n",
       "  </tbody>\n",
       "</table>\n",
       "</div>"
      ],
      "text/plain": [
       "          uk    dk           xuk      zuk c*xuk\n",
       "56  [4.8036]  [-1]  [1, 1, 0, 1]  36.2023    41\n",
       "57   [4.781]   [4]  [1, 1, 0, 0]  36.2146    17\n",
       "58  [4.7864]  [-1]  [1, 1, 0, 1]   36.219    41\n",
       "59  [4.7915]  [-1]  [1, 1, 0, 1]  36.2136    41\n",
       "60  [4.7963]  [-1]  [1, 1, 0, 1]  36.2085    41"
      ]
     },
     "execution_count": 273,
     "metadata": {},
     "output_type": "execute_result"
    }
   ],
   "source": [
    "df_subgrad_p1.tail()"
   ]
  },
  {
   "cell_type": "code",
   "execution_count": 278,
   "metadata": {},
   "outputs": [
    {
     "data": {
      "text/plain": [
       "<matplotlib.axes._subplots.AxesSubplot at 0x7f98787734d0>"
      ]
     },
     "execution_count": 278,
     "metadata": {},
     "output_type": "execute_result"
    },
    {
     "data": {
      "image/png": "[encoded data removed]",
      "text/plain": [
       "<Figure size 432x288 with 1 Axes>"
      ]
     },
     "metadata": {
      "needs_background": "light"
     },
     "output_type": "display_data"
    }
   ],
   "source": [
    "A_p2 = [[5, 4, 4], [9, 3, 5]]\n",
    "b_p2 = [10, 11]\n",
    "c_p2 = [4, 5, 7]\n",
    "df_subgrad_p2 = subgradient_method(c_p2, A_p2, b_p2, uk=[0, 0], max_iterations=500)\n",
    "df_subgrad_p2.plot(y='zuk')\t"
   ]
  },
  {
   "cell_type": "code",
   "execution_count": 280,
   "metadata": {},
   "outputs": [
    {
     "data": {
      "text/html": [
       "<div>\n",
       "<style scoped>\n",
       "    .dataframe tbody tr th:only-of-type {\n",
       "        vertical-align: middle;\n",
       "    }\n",
       "\n",
       "    .dataframe tbody tr th {\n",
       "        vertical-align: top;\n",
       "    }\n",
       "\n",
       "    .dataframe thead th {\n",
       "        text-align: right;\n",
       "    }\n",
       "</style>\n",
       "<table border=\"1\" class=\"dataframe\">\n",
       "  <thead>\n",
       "    <tr style=\"text-align: right;\">\n",
       "      <th></th>\n",
       "      <th>uk</th>\n",
       "      <th>dk</th>\n",
       "      <th>xuk</th>\n",
       "      <th>zuk</th>\n",
       "      <th>c*xuk</th>\n",
       "    </tr>\n",
       "  </thead>\n",
       "  <tbody>\n",
       "    <tr>\n",
       "      <td>1</td>\n",
       "      <td>[0.3, 0.6]</td>\n",
       "      <td>[-3, -6]</td>\n",
       "      <td>[1, 1, 1]</td>\n",
       "      <td>16</td>\n",
       "      <td>16</td>\n",
       "    </tr>\n",
       "    <tr>\n",
       "      <td>2</td>\n",
       "      <td>[0.11, 0.315]</td>\n",
       "      <td>[2, 3]</td>\n",
       "      <td>[0, 1, 1]</td>\n",
       "      <td>14.4</td>\n",
       "      <td>12</td>\n",
       "    </tr>\n",
       "    <tr>\n",
       "      <td>3</td>\n",
       "      <td>[0.3808, 0.8565]</td>\n",
       "      <td>[-3, -6]</td>\n",
       "      <td>[1, 1, 1]</td>\n",
       "      <td>13.78</td>\n",
       "      <td>16</td>\n",
       "    </tr>\n",
       "    <tr>\n",
       "      <td>4</td>\n",
       "      <td>[0.2093, 0.5993]</td>\n",
       "      <td>[2, 3]</td>\n",
       "      <td>[0, 1, 1]</td>\n",
       "      <td>15.331</td>\n",
       "      <td>12</td>\n",
       "    </tr>\n",
       "    <tr>\n",
       "      <td>5</td>\n",
       "      <td>[0.0464, 0.3549]</td>\n",
       "      <td>[2, 3]</td>\n",
       "      <td>[0, 1, 1]</td>\n",
       "      <td>14.2164</td>\n",
       "      <td>12</td>\n",
       "    </tr>\n",
       "    <tr>\n",
       "      <td>...</td>\n",
       "      <td>...</td>\n",
       "      <td>...</td>\n",
       "      <td>...</td>\n",
       "      <td>...</td>\n",
       "      <td>...</td>\n",
       "    </tr>\n",
       "    <tr>\n",
       "      <td>496</td>\n",
       "      <td>[0.0, 0.4444]</td>\n",
       "      <td>[-3, -6]</td>\n",
       "      <td>[1, 1, 1]</td>\n",
       "      <td>13.3333</td>\n",
       "      <td>16</td>\n",
       "    </tr>\n",
       "    <tr>\n",
       "      <td>497</td>\n",
       "      <td>[0.0, 0.4444]</td>\n",
       "      <td>[2, 3]</td>\n",
       "      <td>[0, 1, 1]</td>\n",
       "      <td>13.3333</td>\n",
       "      <td>12</td>\n",
       "    </tr>\n",
       "    <tr>\n",
       "      <td>498</td>\n",
       "      <td>[0, 0.4444]</td>\n",
       "      <td>[2, 3]</td>\n",
       "      <td>[0, 1, 1]</td>\n",
       "      <td>13.3333</td>\n",
       "      <td>12</td>\n",
       "    </tr>\n",
       "    <tr>\n",
       "      <td>499</td>\n",
       "      <td>[0.0, 0.4444]</td>\n",
       "      <td>[-3, -6]</td>\n",
       "      <td>[1, 1, 1]</td>\n",
       "      <td>13.3333</td>\n",
       "      <td>16</td>\n",
       "    </tr>\n",
       "    <tr>\n",
       "      <td>500</td>\n",
       "      <td>[0.0, 0.4444]</td>\n",
       "      <td>[2, 3]</td>\n",
       "      <td>[0, 1, 1]</td>\n",
       "      <td>13.3333</td>\n",
       "      <td>12</td>\n",
       "    </tr>\n",
       "  </tbody>\n",
       "</table>\n",
       "<p>500 rows × 5 columns</p>\n",
       "</div>"
      ],
      "text/plain": [
       "                   uk        dk        xuk      zuk c*xuk\n",
       "1          [0.3, 0.6]  [-3, -6]  [1, 1, 1]       16    16\n",
       "2       [0.11, 0.315]    [2, 3]  [0, 1, 1]     14.4    12\n",
       "3    [0.3808, 0.8565]  [-3, -6]  [1, 1, 1]    13.78    16\n",
       "4    [0.2093, 0.5993]    [2, 3]  [0, 1, 1]   15.331    12\n",
       "5    [0.0464, 0.3549]    [2, 3]  [0, 1, 1]  14.2164    12\n",
       "..                ...       ...        ...      ...   ...\n",
       "496     [0.0, 0.4444]  [-3, -6]  [1, 1, 1]  13.3333    16\n",
       "497     [0.0, 0.4444]    [2, 3]  [0, 1, 1]  13.3333    12\n",
       "498       [0, 0.4444]    [2, 3]  [0, 1, 1]  13.3333    12\n",
       "499     [0.0, 0.4444]  [-3, -6]  [1, 1, 1]  13.3333    16\n",
       "500     [0.0, 0.4444]    [2, 3]  [0, 1, 1]  13.3333    12\n",
       "\n",
       "[500 rows x 5 columns]"
      ]
     },
     "execution_count": 280,
     "metadata": {},
     "output_type": "execute_result"
    }
   ],
   "source": [
    "df_subgrad_p2.tail(500)"
   ]
  },
  {
   "cell_type": "code",
   "execution_count": 59,
   "metadata": {
    "jupyter": {
     "source_hidden": true
    }
   },
   "outputs": [],
   "source": [
    "def get_bin_combinations_vectors():\n",
    "    binar = [0,1]\n",
    "    result = []\n",
    "    for a in binar:\n",
    "        for b in binar:\n",
    "            for c in binar:\n",
    "                for d in binar:\n",
    "                    result.append([a, b, c, d])\n",
    "    return result"
   ]
  },
  {
   "cell_type": "code",
   "execution_count": 81,
   "metadata": {
    "collapsed": true,
    "jupyter": {
     "outputs_hidden": true,
     "source_hidden": true
    }
   },
   "outputs": [
    {
     "data": {
      "text/html": [
       "<div>\n",
       "<style scoped>\n",
       "    .dataframe tbody tr th:only-of-type {\n",
       "        vertical-align: middle;\n",
       "    }\n",
       "\n",
       "    .dataframe tbody tr th {\n",
       "        vertical-align: top;\n",
       "    }\n",
       "\n",
       "    .dataframe thead th {\n",
       "        text-align: right;\n",
       "    }\n",
       "</style>\n",
       "<table border=\"1\" class=\"dataframe\">\n",
       "  <thead>\n",
       "    <tr style=\"text-align: right;\">\n",
       "      <th></th>\n",
       "      <th>x</th>\n",
       "      <th>c*x</th>\n",
       "      <th>b-Ax</th>\n",
       "      <th>lagrange(x, uk=[0.0, 0.4444])</th>\n",
       "    </tr>\n",
       "  </thead>\n",
       "  <tbody>\n",
       "    <tr>\n",
       "      <td>14</td>\n",
       "      <td>[1, 1, 1, 0]</td>\n",
       "      <td>16</td>\n",
       "      <td>[-3, -6]</td>\n",
       "      <td>13.3336</td>\n",
       "    </tr>\n",
       "    <tr>\n",
       "      <td>15</td>\n",
       "      <td>[1, 1, 1, 1]</td>\n",
       "      <td>16</td>\n",
       "      <td>[-3, -6]</td>\n",
       "      <td>13.3336</td>\n",
       "    </tr>\n",
       "    <tr>\n",
       "      <td>6</td>\n",
       "      <td>[0, 1, 1, 0]</td>\n",
       "      <td>12</td>\n",
       "      <td>[2, 3]</td>\n",
       "      <td>13.3332</td>\n",
       "    </tr>\n",
       "    <tr>\n",
       "      <td>7</td>\n",
       "      <td>[0, 1, 1, 1]</td>\n",
       "      <td>12</td>\n",
       "      <td>[2, 3]</td>\n",
       "      <td>13.3332</td>\n",
       "    </tr>\n",
       "    <tr>\n",
       "      <td>10</td>\n",
       "      <td>[1, 0, 1, 0]</td>\n",
       "      <td>11</td>\n",
       "      <td>[1, -3]</td>\n",
       "      <td>9.6668</td>\n",
       "    </tr>\n",
       "    <tr>\n",
       "      <td>11</td>\n",
       "      <td>[1, 0, 1, 1]</td>\n",
       "      <td>11</td>\n",
       "      <td>[1, -3]</td>\n",
       "      <td>9.6668</td>\n",
       "    </tr>\n",
       "    <tr>\n",
       "      <td>12</td>\n",
       "      <td>[1, 1, 0, 0]</td>\n",
       "      <td>9</td>\n",
       "      <td>[1, -1]</td>\n",
       "      <td>8.5556</td>\n",
       "    </tr>\n",
       "    <tr>\n",
       "      <td>13</td>\n",
       "      <td>[1, 1, 0, 1]</td>\n",
       "      <td>9</td>\n",
       "      <td>[1, -1]</td>\n",
       "      <td>8.5556</td>\n",
       "    </tr>\n",
       "    <tr>\n",
       "      <td>2</td>\n",
       "      <td>[0, 0, 1, 0]</td>\n",
       "      <td>7</td>\n",
       "      <td>[6, 6]</td>\n",
       "      <td>9.6664</td>\n",
       "    </tr>\n",
       "    <tr>\n",
       "      <td>3</td>\n",
       "      <td>[0, 0, 1, 1]</td>\n",
       "      <td>7</td>\n",
       "      <td>[6, 6]</td>\n",
       "      <td>9.6664</td>\n",
       "    </tr>\n",
       "    <tr>\n",
       "      <td>4</td>\n",
       "      <td>[0, 1, 0, 0]</td>\n",
       "      <td>5</td>\n",
       "      <td>[6, 8]</td>\n",
       "      <td>8.5552</td>\n",
       "    </tr>\n",
       "    <tr>\n",
       "      <td>5</td>\n",
       "      <td>[0, 1, 0, 1]</td>\n",
       "      <td>5</td>\n",
       "      <td>[6, 8]</td>\n",
       "      <td>8.5552</td>\n",
       "    </tr>\n",
       "    <tr>\n",
       "      <td>8</td>\n",
       "      <td>[1, 0, 0, 0]</td>\n",
       "      <td>4</td>\n",
       "      <td>[5, 2]</td>\n",
       "      <td>4.8888</td>\n",
       "    </tr>\n",
       "    <tr>\n",
       "      <td>9</td>\n",
       "      <td>[1, 0, 0, 1]</td>\n",
       "      <td>4</td>\n",
       "      <td>[5, 2]</td>\n",
       "      <td>4.8888</td>\n",
       "    </tr>\n",
       "    <tr>\n",
       "      <td>0</td>\n",
       "      <td>[0, 0, 0, 0]</td>\n",
       "      <td>0</td>\n",
       "      <td>[10, 11]</td>\n",
       "      <td>4.8884</td>\n",
       "    </tr>\n",
       "    <tr>\n",
       "      <td>1</td>\n",
       "      <td>[0, 0, 0, 1]</td>\n",
       "      <td>0</td>\n",
       "      <td>[10, 11]</td>\n",
       "      <td>4.8884</td>\n",
       "    </tr>\n",
       "  </tbody>\n",
       "</table>\n",
       "</div>"
      ],
      "text/plain": [
       "               x c*x      b-Ax  lagrange(x, uk=[0.0, 0.4444])\n",
       "14  [1, 1, 1, 0]  16  [-3, -6]                        13.3336\n",
       "15  [1, 1, 1, 1]  16  [-3, -6]                        13.3336\n",
       "6   [0, 1, 1, 0]  12    [2, 3]                        13.3332\n",
       "7   [0, 1, 1, 1]  12    [2, 3]                        13.3332\n",
       "10  [1, 0, 1, 0]  11   [1, -3]                         9.6668\n",
       "11  [1, 0, 1, 1]  11   [1, -3]                         9.6668\n",
       "12  [1, 1, 0, 0]   9   [1, -1]                         8.5556\n",
       "13  [1, 1, 0, 1]   9   [1, -1]                         8.5556\n",
       "2   [0, 0, 1, 0]   7    [6, 6]                         9.6664\n",
       "3   [0, 0, 1, 1]   7    [6, 6]                         9.6664\n",
       "4   [0, 1, 0, 0]   5    [6, 8]                         8.5552\n",
       "5   [0, 1, 0, 1]   5    [6, 8]                         8.5552\n",
       "8   [1, 0, 0, 0]   4    [5, 2]                         4.8888\n",
       "9   [1, 0, 0, 1]   4    [5, 2]                         4.8888\n",
       "0   [0, 0, 0, 0]   0  [10, 11]                         4.8884\n",
       "1   [0, 0, 0, 1]   0  [10, 11]                         4.8884"
      ]
     },
     "execution_count": 81,
     "metadata": {},
     "output_type": "execute_result"
    }
   ],
   "source": [
    "u = df_subgrad_p2['uk'].tail(1)\n",
    "uk = [uk[i] for i in range(len(uk)) for uk in u]\n",
    "df = pd.DataFrame(columns=['x', 'c*x', 'b-Ax', 'lagrange(x, uk='+str([round(uk[i],4) for i in range(len(uk))])+')'])\n",
    "for i, x in enumerate(get_bin_combinations_vectors()):\n",
    "    df.loc[i] = [x, objective_function(c_p2, x), subgradient(x, A_p2, b_p2), lagrange_function(x, uk, c_p2, A_p2, b_p2)]\n",
    "df.sort_values('c*x', ascending=False)"
   ]
  },
  {
   "cell_type": "code",
   "execution_count": 212,
   "metadata": {},
   "outputs": [],
   "source": [
    "import pyomo.environ as pe\n",
    "import pyomo as pyo"
   ]
  },
  {
   "cell_type": "code",
   "execution_count": 260,
   "metadata": {},
   "outputs": [],
   "source": [
    "def linear_model(c, A, b, _domain=pe.NonNegativeReals, bound=None):\n",
    "    model = pe.ConcreteModel()\n",
    "    model.J = pe.RangeSet(0, len(c)-1)\n",
    "    model.I = pe.RangeSet(0, len(b)-1)\n",
    "    model.x = pe.Var(model.J, domain=_domain, bounds=(0,bound))    \n",
    "    def obj_rule(model):\n",
    "        return sum(c[j]*model.x[j] for j in model.J)\n",
    "    model.obj = pe.Objective(rule=obj_rule, sense=pe.maximize)        \n",
    "    def constraint_rule(model, i):\n",
    "        return sum(A[i][j]*model.x[j] for j in model.J) <= b[i]\n",
    "    model.cap_constraint = pe.Constraint(model.I, rule=constraint_rule)\n",
    "    solver = pyo.opt.SolverFactory('cbc')\n",
    "    results = solver.solve(model)\n",
    "    return model"
   ]
  },
  {
   "cell_type": "code",
   "execution_count": 262,
   "metadata": {},
   "outputs": [
    {
     "name": "stdout",
     "output_type": "stream",
     "text": [
      "13.33333332\n",
      "0.33333333\n",
      "1.0\n",
      "1.0\n"
     ]
    }
   ],
   "source": [
    "linear_relaxation = linear_model(c_p2, A_p2, b_p2, bound=1)\n",
    "print(linear_relaxation.obj())   \n",
    "for i in range(len(c_p2)):\n",
    "    print(linear_relaxation.x[i]())"
   ]
  },
  {
   "cell_type": "code",
   "execution_count": 281,
   "metadata": {},
   "outputs": [
    {
     "name": "stdout",
     "output_type": "stream",
     "text": [
      "12.0\n",
      "0.0\n",
      "1.0\n",
      "1.0\n",
      "2 RangeSet Declarations\n",
      "    I : Dim=0, Dimen=1, Size=2, Domain=Integers, Ordered=True, Bounds=(0, 1)\n",
      "        Virtual\n",
      "    J : Dim=0, Dimen=1, Size=3, Domain=Integers, Ordered=True, Bounds=(0, 2)\n",
      "        Virtual\n",
      "\n",
      "1 Var Declarations\n",
      "    x : Size=3, Index=J\n",
      "        Key : Lower : Value : Upper : Fixed : Stale : Domain\n",
      "          0 :     0 :   0.0 :     1 : False : False : Binary\n",
      "          1 :     0 :   1.0 :     1 : False : False : Binary\n",
      "          2 :     0 :   1.0 :     1 : False : False : Binary\n",
      "\n",
      "1 Objective Declarations\n",
      "    obj : Size=1, Index=None, Active=True\n",
      "        Key  : Active : Sense    : Expression\n",
      "        None :   True : maximize : 4*x[0] + 5*x[1] + 7*x[2]\n",
      "\n",
      "1 Constraint Declarations\n",
      "    cap_constraint : Size=2, Index=I, Active=True\n",
      "        Key : Lower : Body                     : Upper : Active\n",
      "          0 :  -Inf : 5*x[0] + 4*x[1] + 4*x[2] :  10.0 :   True\n",
      "          1 :  -Inf : 9*x[0] + 3*x[1] + 5*x[2] :  11.0 :   True\n",
      "\n",
      "5 Declarations: J I x obj cap_constraint\n"
     ]
    }
   ],
   "source": [
    "binary_model = linear_model(c_p2, A_p2, b_p2, pe.Binary)\n",
    "print(binary_model.obj())  \n",
    "for i in range(len(c_p2)):\n",
    "    print(binary_model.x[i]())\n",
    "#model.display()\n",
    "model.pprint()"
   ]
  },
  {
   "cell_type": "code",
   "execution_count": 267,
   "metadata": {},
   "outputs": [
    {
     "name": "stdout",
     "output_type": "stream",
     "text": [
      "36.2\n",
      "1.0\n",
      "1.0\n",
      "0.0\n"
     ]
    }
   ],
   "source": [
    "linear_relaxation = linear_model(c_p1, A_p1, b_p1, bound=1)\n",
    "print(linear_relaxation.obj())   \n",
    "for i in range(len(c_p2)):\n",
    "    print(linear_relaxation.x[i]())"
   ]
  },
  {
   "cell_type": "code",
   "execution_count": 269,
   "metadata": {},
   "outputs": [
    {
     "name": "stdout",
     "output_type": "stream",
     "text": [
      "34.0\n",
      "1.0\n",
      "0.0\n",
      "0.0\n"
     ]
    }
   ],
   "source": [
    "binary_model = linear_model(c_p1, A_p1, b_p1, pe.Binary)\n",
    "print(binary_model.obj())\n",
    "for i in range(len(c_p2)):\n",
    "    print(binary_model.x[i]())"
   ]
  }
 ],
 "metadata": {
  "kernelspec": {
   "display_name": ".venv",
   "language": "python",
   "name": ".venv"
  },
  "language_info": {
   "codemirror_mode": {
    "name": "ipython",
    "version": 3
   },
   "file_extension": ".py",
   "mimetype": "text/x-python",
   "name": "python",
   "nbconvert_exporter": "python",
   "pygments_lexer": "ipython3",
   "version": "3.7.4"
  }
 },
 "nbformat": 4,
 "nbformat_minor": 4
}
